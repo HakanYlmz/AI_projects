{
 "cells": [
  {
   "cell_type": "code",
<<<<<<< HEAD
   "execution_count": 3,
   "metadata": {},
   "outputs": [],
=======
   "execution_count": 13,
   "metadata": {},
   "outputs": [
    {
     "name": "stdout",
     "output_type": "stream",
     "text": [
      "<keras.engine.sequential.Sequential object at 0x000002434CA8A140>\n"
     ]
    }
   ],
>>>>>>> a7ea485f6a3bfd46f6c304ea3066b72961b54a32
   "source": [
    "import random\n",
    "import json\n",
    "import pickle\n",
    "import numpy as np\n",
    "import nltk\n",
    "from nltk.stem import WordNetLemmatizer\n",
    "\n",
    "from tensorflow.keras.models import Sequential\n",
    "from tensorflow.keras.layers import Dense, Dropout\n",
    "from tensorflow.keras.optimizers import SGD\n",
    "from tensorflow.keras.models import load_model\n",
    "\n",
    "from nltk.stem import WordNetLemmatizer\n",
    "\n",
    "lemmatizer = WordNetLemmatizer()\n",
    "\n",
<<<<<<< HEAD
    "intents = json.loads(open('sonuclar.json').read())\n",
    "\n",
    "words = pickle.load(open('words.pkl','rb'))\n",
    "classes = pickle.load(open('classes.pkl','rb'))\n",
    "model = load_model('versiyon1.model')\n",
    "\n"
=======
    "intents = json.loads(open('intents.json').read())\n",
    "\n",
    "words = pickle.load(open('words.pkl','rb'))\n",
    "classes = pickle.load(open('classes.pkl','rb'))\n",
    "model = load_model('versiyon1.h5')\n",
    " \n",
    "print(model)"
>>>>>>> a7ea485f6a3bfd46f6c304ea3066b72961b54a32
   ]
  },
  {
   "cell_type": "code",
<<<<<<< HEAD
   "execution_count": 41,
=======
   "execution_count": 16,
>>>>>>> a7ea485f6a3bfd46f6c304ea3066b72961b54a32
   "metadata": {},
   "outputs": [],
   "source": [
    "def _clean_up_sentence(sentence):\n",
    "    sentence_words = nltk.word_tokenize(sentence)\n",
    "    sentence_words = [lemmatizer.lemmatize(word.lower()) for word in sentence_words]\n",
    "    return sentence_words\n",
    "\n",
    "def _bag_of_words( sentence, words):\n",
    "    sentence_words = _clean_up_sentence(sentence)\n",
    "    bag = [0] * len(words)\n",
    "    for s in sentence_words:\n",
    "        for i, word in enumerate(words):\n",
    "            if word == s:\n",
    "                bag[i] = 1\n",
    "    return np.array(bag)\n",
    "\n",
    "def _predict_class(sentence):\n",
    "    p = _bag_of_words(sentence, words)\n",
    "    res = model.predict(np.array([p]))[0]\n",
    "    ERROR_THRESHOLD = 0.1\n",
    "    results = [[i, r] for i, r in enumerate(res) if r > ERROR_THRESHOLD]\n",
    "\n",
    "    results.sort(key=lambda x: x[1], reverse=True)\n",
    "    return_list = []\n",
    "    for r in results:\n",
    "        return_list.append({'intent': classes[r[0]], 'probability': str(r[1])})\n",
    "    return return_list\n",
    "\n",
    "def _get_response( ints, intents_json):\n",
    "    try:\n",
    "         \n",
    "        tag = ints[0]['intent']\n",
<<<<<<< HEAD
    "        list_of_intents = intents_json['sonuclar']\n",
=======
    "        list_of_intents = intents_json['intents']\n",
>>>>>>> a7ea485f6a3bfd46f6c304ea3066b72961b54a32
    "        for i in list_of_intents:\n",
    "            if i['tag']  == tag:\n",
    "                result = random.choice(i['responses'])\n",
    "                break\n",
    "    except IndexError:\n",
    "        result = \"I don't understand!\"\n",
    "    return result"
   ]
  },
  {
   "cell_type": "code",
<<<<<<< HEAD
   "execution_count": 61,
=======
   "execution_count": 17,
>>>>>>> a7ea485f6a3bfd46f6c304ea3066b72961b54a32
   "metadata": {},
   "outputs": [
    {
     "name": "stdout",
     "output_type": "stream",
     "text": [
<<<<<<< HEAD
      "1/1 [==============================] - 0s 53ms/step\n",
      "tekrar buluÅŸmak uzere\n"
=======
      "1/1 [==============================] - 0s 25ms/step\n",
      "gule gule\n"
>>>>>>> a7ea485f6a3bfd46f6c304ea3066b72961b54a32
     ]
    }
   ],
   "source": [
    "\n",
    "ints = _predict_class(\"By by\")\n",
    "res = _get_response(ints,intents)\n",
    "print(res)"
   ]
  }
 ],
 "metadata": {
  "kernelspec": {
   "display_name": "Python 3",
   "language": "python",
   "name": "python3"
  },
  "language_info": {
   "codemirror_mode": {
    "name": "ipython",
    "version": 3
   },
   "file_extension": ".py",
   "mimetype": "text/x-python",
   "name": "python",
   "nbconvert_exporter": "python",
   "pygments_lexer": "ipython3",
   "version": "3.10.6"
  },
  "orig_nbformat": 4,
  "vscode": {
   "interpreter": {
    "hash": "137d31f142b6255d9514b3f34709914ca2e40c8bd6323a191bb09394bace2975"
   }
  }
 },
 "nbformat": 4,
 "nbformat_minor": 2
}
